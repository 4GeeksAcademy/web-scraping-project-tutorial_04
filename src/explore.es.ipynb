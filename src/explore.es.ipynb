{
    "cells": [
        {
            "cell_type": "markdown",
            "metadata": {},
            "source": [
                "# Explora aquí\n",
                "\n",
                "Se recomienda utilizar este cuaderno con fines de exploración."
            ]
        },
        {
            "cell_type": "code",
            "execution_count": 1,
            "metadata": {},
            "outputs": [],
            "source": [
                "import os\n",
                "from bs4 import BeautifulSoup\n",
                "import requests\n",
                "import time\n",
                "import sqlite3\n",
                "import matplotlib.pyplot as plt\n",
                "import seaborn as sns\n",
                "#import io\n",
                "import pandas as pd"
            ]
        },
        {
            "cell_type": "code",
            "execution_count": null,
            "metadata": {},
            "outputs": [
                {
                    "data": {
                        "text/plain": [
                            "'<!DOCTYPE html>\\n<!--[if lt IE 7]>      <html lang=\"en-us\" class=\"no-js lt-ie9 lt-ie8 lt-ie7\"> <![endif]-->\\n<!--[if IE 7]>         <html lang=\"en-us\" class=\"no-js lt-ie9 lt-ie8\"> <![endif]-->\\n<!--[if IE 8]>         <html lang=\"en-us\" class=\"no-js lt-ie9\"> <![endif]-->\\n<!--[if gt IE 8]><!--> <html lang=\"en-us\" class=\"no-js\"> <!--<![endif]-->\\n    <head>\\n        <title>\\n    All products | Books to Scrape - Sandbox\\n</title>\\n\\n        <meta http-equiv=\"content-type\" content=\"text/html; charset=UTF-8\" /'"
                        ]
                    },
                    "execution_count": 2,
                    "metadata": {},
                    "output_type": "execute_result"
                }
            ],
            "source": [
                "url = \"https://books.toscrape.com/\"\n",
                "header = {'User-agent': 'Mozilla/5.0 (Windows NT 10.0; Win64; x64) AppleWebKit/537.36 (KHTML, like Gecko) Chrome/141.0.0.0 Safari/537.36'}\n",
                "#Hacer la petición a la url indicada\n",
                "response = requests.get(url, headers = header, timeout = 3)\n",
                "#comprobar la conexión de la petición 200 ok y 400, 500 bad\n",
                "response.status_code\n",
                "#imprimir la 500 primeras lineas para comprobar\n",
                "response.text[:500]"
            ]
        },
        {
            "cell_type": "code",
            "execution_count": 3,
            "metadata": {},
            "outputs": [],
            "source": [
                "#crear el objeto `Beautifulsoup` \n",
                "soup = BeautifulSoup(response.content, \"html.parser\")\n",
                "\n",
                "#examinando el documento html encuentro dentro de un div, un único <ul class='nav nav-list'> con <ul> anidado`y dentro\n",
                "# una <a>`que contiene las categorias que busco\n",
                "#usar .find para encontrar <ul>, el bloque principal de las categorias\n",
                "nav_list = soup.find('ul', class_='nav nav-list')\n",
                "#dentro encuentro 'ul' anidado\n",
                "sub_list = nav_list.find('ul')\n",
                "#y por último  localizo todas las <a> dentro del último <ul>\n",
                "categoria = sub_list.find_all('a')\n",
                "\n"
            ]
        },
        {
            "cell_type": "code",
            "execution_count": null,
            "metadata": {},
            "outputs": [
                {
                    "data": {
                        "text/html": [
                            "<div>\n",
                            "<style scoped>\n",
                            "    .dataframe tbody tr th:only-of-type {\n",
                            "        vertical-align: middle;\n",
                            "    }\n",
                            "\n",
                            "    .dataframe tbody tr th {\n",
                            "        vertical-align: top;\n",
                            "    }\n",
                            "\n",
                            "    .dataframe thead th {\n",
                            "        text-align: right;\n",
                            "    }\n",
                            "</style>\n",
                            "<table border=\"1\" class=\"dataframe\">\n",
                            "  <thead>\n",
                            "    <tr style=\"text-align: right;\">\n",
                            "      <th></th>\n",
                            "      <th>Categoria</th>\n",
                            "      <th>Título</th>\n",
                            "      <th>Precio</th>\n",
                            "    </tr>\n",
                            "  </thead>\n",
                            "  <tbody>\n",
                            "    <tr>\n",
                            "      <th>0</th>\n",
                            "      <td>Travel</td>\n",
                            "      <td>It's Only the Himalayas</td>\n",
                            "      <td>45.17</td>\n",
                            "    </tr>\n",
                            "    <tr>\n",
                            "      <th>1</th>\n",
                            "      <td>Travel</td>\n",
                            "      <td>Full Moon over Noah’s Ark: An Odyssey to Mount...</td>\n",
                            "      <td>49.43</td>\n",
                            "    </tr>\n",
                            "    <tr>\n",
                            "      <th>2</th>\n",
                            "      <td>Travel</td>\n",
                            "      <td>See America: A Celebration of Our National Par...</td>\n",
                            "      <td>48.87</td>\n",
                            "    </tr>\n",
                            "    <tr>\n",
                            "      <th>3</th>\n",
                            "      <td>Travel</td>\n",
                            "      <td>Vagabonding: An Uncommon Guide to the Art of L...</td>\n",
                            "      <td>36.94</td>\n",
                            "    </tr>\n",
                            "    <tr>\n",
                            "      <th>4</th>\n",
                            "      <td>Travel</td>\n",
                            "      <td>Under the Tuscan Sun</td>\n",
                            "      <td>37.33</td>\n",
                            "    </tr>\n",
                            "    <tr>\n",
                            "      <th>...</th>\n",
                            "      <td>...</td>\n",
                            "      <td>...</td>\n",
                            "      <td>...</td>\n",
                            "    </tr>\n",
                            "    <tr>\n",
                            "      <th>512</th>\n",
                            "      <td>Politics</td>\n",
                            "      <td>Why the Right Went Wrong: Conservatism--From G...</td>\n",
                            "      <td>52.65</td>\n",
                            "    </tr>\n",
                            "    <tr>\n",
                            "      <th>513</th>\n",
                            "      <td>Politics</td>\n",
                            "      <td>Equal Is Unfair: America's Misguided Fight Aga...</td>\n",
                            "      <td>56.86</td>\n",
                            "    </tr>\n",
                            "    <tr>\n",
                            "      <th>514</th>\n",
                            "      <td>Cultural</td>\n",
                            "      <td>Amid the Chaos</td>\n",
                            "      <td>36.58</td>\n",
                            "    </tr>\n",
                            "    <tr>\n",
                            "      <th>515</th>\n",
                            "      <td>Erotica</td>\n",
                            "      <td>Dark Notes</td>\n",
                            "      <td>19.19</td>\n",
                            "    </tr>\n",
                            "    <tr>\n",
                            "      <th>516</th>\n",
                            "      <td>Crime</td>\n",
                            "      <td>The Long Shadow of Small Ghosts: Murder and Me...</td>\n",
                            "      <td>10.97</td>\n",
                            "    </tr>\n",
                            "  </tbody>\n",
                            "</table>\n",
                            "<p>517 rows × 3 columns</p>\n",
                            "</div>"
                        ],
                        "text/plain": [
                            "    Categoria                                             Título Precio\n",
                            "0      Travel                            It's Only the Himalayas  45.17\n",
                            "1      Travel  Full Moon over Noah’s Ark: An Odyssey to Mount...  49.43\n",
                            "2      Travel  See America: A Celebration of Our National Par...  48.87\n",
                            "3      Travel  Vagabonding: An Uncommon Guide to the Art of L...  36.94\n",
                            "4      Travel                               Under the Tuscan Sun  37.33\n",
                            "..        ...                                                ...    ...\n",
                            "512  Politics  Why the Right Went Wrong: Conservatism--From G...  52.65\n",
                            "513  Politics  Equal Is Unfair: America's Misguided Fight Aga...  56.86\n",
                            "514  Cultural                                     Amid the Chaos  36.58\n",
                            "515   Erotica                                         Dark Notes  19.19\n",
                            "516     Crime  The Long Shadow of Small Ghosts: Murder and Me...  10.97\n",
                            "\n",
                            "[517 rows x 3 columns]"
                        ]
                    },
                    "execution_count": 4,
                    "metadata": {},
                    "output_type": "execute_result"
                }
            ],
            "source": [
                "#lista final con las categorías, libros y precios\n",
                "libreria = []\n",
                "\n",
                "#recorro todas las categorias y extraigo el texto\n",
                "for i in categoria:\n",
                "    nombre_categoria = str.strip(i.get_text())\n",
                "    #completo la url relativa para cada página en 'categoria'\n",
                "    url_categoria = url + i['href']\n",
                "    #peticiones a las primeras págians de las categorias\n",
                "    response = requests.get(url_categoria, headers=header)\n",
                "    soup = BeautifulSoup(response.content, \"html.parser\")\n",
                "    #extaer libros y precios\n",
                "    #<article class=\"product_pod\">\n",
                "    libros = soup.find_all('article', class_='product_pod')\n",
                "    \n",
                "    for libro in libros:\n",
                "        #dentro de 'article', class_='product_pod'busco etiqueta h3-->a para obtener el titulo del libro\n",
                "        titulo = libro.h3.a['title']\n",
                "        price = str.strip(libro.find('p', class_='price_color').get_text())#strip=tTrue\n",
                "        libreria.append({\"Categoria\":nombre_categoria, \"Título\": titulo, \"Precio\":price[1:]})\n",
                "\n",
                "#libreria\n",
                "\n",
                "df = pd.DataFrame(libreria)\n",
                "\n",
                "df.to_csv(\"libreria.csv\")\n",
                "df"
            ]
        }
    ],
    "metadata": {
        "kernelspec": {
            "display_name": "Python 3",
            "language": "python",
            "name": "python3"
        },
        "language_info": {
            "codemirror_mode": {
                "name": "ipython",
                "version": 3
            },
            "file_extension": ".py",
            "mimetype": "text/x-python",
            "name": "python",
            "nbconvert_exporter": "python",
            "pygments_lexer": "ipython3",
            "version": "3.11.4"
        },
        "orig_nbformat": 4
    },
    "nbformat": 4,
    "nbformat_minor": 2
}
